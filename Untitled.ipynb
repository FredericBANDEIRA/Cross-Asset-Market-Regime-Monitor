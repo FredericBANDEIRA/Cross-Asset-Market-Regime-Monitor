{
 "cells": [
  {
   "cell_type": "code",
   "execution_count": 5,
   "id": "118408f6",
   "metadata": {},
   "outputs": [],
   "source": [
    "from matplotlib import pyplot as plt\n",
    "import yfinance as yf\n",
    "import pandas as pd\n",
    "import numpy as np"
   ]
  },
  {
   "cell_type": "code",
   "execution_count": 2,
   "id": "6ecaf526",
   "metadata": {},
   "outputs": [],
   "source": [
    "def data_download(ticker, filename):\n",
    "    data = yf.download(ticker, period=\"20y\", interval=\"1d\",)[\"Close\"]\n",
    "    data.to_csv(filename)\n",
    "    return data"
   ]
  },
  {
   "cell_type": "code",
   "execution_count": 4,
   "id": "b74c5155",
   "metadata": {},
   "outputs": [],
   "source": [
    "ticker_filename = {\n",
    "    \"SPY\" : \"spy.csv\",\n",
    "    \"DX-Y.NYB\" : \"usd.csv\",\n",
    "    \"GC=F\" : \"gold.csv\",\n",
    "    \"WTI\" : \"oil.csv\",\n",
    "    \"ZW=F\" : \"wheat.csv\",\n",
    "    \"^TNX\" : \"bond.csv\"\n",
    "}"
   ]
  },
  {
   "cell_type": "code",
   "execution_count": 9,
   "id": "358f0367",
   "metadata": {},
   "outputs": [],
   "source": [
    "def check_na(data):\n",
    "    null_sum = data.isna().sum()\n",
    "    null_percentage = null_sum/len(data)\n",
    "    print(f\"Ratio of missing values: {null_percentage}\")"
   ]
  },
  {
   "cell_type": "code",
   "execution_count": 10,
   "id": "6bb94091",
   "metadata": {},
   "outputs": [],
   "source": [
    "def deal_with_na(data):\n",
    "    return data.ffill().bfill()"
   ]
  },
  {
   "cell_type": "code",
   "execution_count": 11,
   "id": "a931b5fb",
   "metadata": {},
   "outputs": [],
   "source": [
    "def scale_data(data):\n",
    "    data[\"base100\"] = (data['SPY'].pct_change() + 1).cumprod()*100\n",
    "    data.loc[data.index[0], \"base100\"] = 100"
   ]
  },
  {
   "cell_type": "code",
   "execution_count": 16,
   "id": "5f35add6",
   "metadata": {},
   "outputs": [],
   "source": [
    "def get_data(ticker, filename):\n",
    "    data = yf.download(ticker, period=\"20y\", interval=\"1d\",)[\"Close\"]\n",
    "    check_na(data)\n",
    "    deal_with_na(data)\n",
    "    print(data.head())\n",
    "#     scale_data(data)\n",
    "#     data.to_csv(filename)\n",
    "#     data[\"base100\"].plot(label = ticker.upper())\n",
    "#     plt.ylabel(\"SPY Closing Price\")\n",
    "#     plt.title(\"SPY CLosing Price Over Time\")\n",
    "    "
   ]
  },
  {
   "cell_type": "code",
   "execution_count": 17,
   "id": "5c5f5aef",
   "metadata": {},
   "outputs": [
    {
     "name": "stderr",
     "output_type": "stream",
     "text": [
      "[*********************100%%**********************]  1 of 1 completed\n",
      "\n",
      "1 Failed download:\n",
      "['SPY']: JSONDecodeError('Expecting value: line 1 column 1 (char 0)')\n",
      "C:\\Users\\frede\\AppData\\Local\\Temp\\ipykernel_22088\\1613115007.py:3: RuntimeWarning: invalid value encountered in scalar divide\n",
      "  null_percentage = null_sum/len(data)\n",
      "No artists with labels found to put in legend.  Note that artists whose label start with an underscore are ignored when legend() is called with no argument.\n"
     ]
    },
    {
     "name": "stdout",
     "output_type": "stream",
     "text": [
      "Ratio of missing values: nan\n",
      "Series([], Name: Close, dtype: float64)\n"
     ]
    },
    {
     "data": {
      "image/png": "[encoded data removed]",
      "text/plain": [
       "<Figure size 640x480 with 1 Axes>"
      ]
     },
     "metadata": {},
     "output_type": "display_data"
    }
   ],
   "source": [
    "get_data(\"SPY\", \"spy.csv\")\n",
    "plt.legend()\n",
    "plt.show()"
   ]
  },
  {
   "cell_type": "code",
   "execution_count": 3,
   "id": "87b6c55b",
   "metadata": {},
   "outputs": [
    {
     "name": "stderr",
     "output_type": "stream",
     "text": [
      "[*********************100%%**********************]  1 of 1 completed\n",
      "\n",
      "1 Failed download:\n",
      "['SPY']: JSONDecodeError('Expecting value: line 1 column 1 (char 0)')\n"
     ]
    },
    {
     "data": {
      "text/html": [
       "<div>\n",
       "<style scoped>\n",
       "    .dataframe tbody tr th:only-of-type {\n",
       "        vertical-align: middle;\n",
       "    }\n",
       "\n",
       "    .dataframe tbody tr th {\n",
       "        vertical-align: top;\n",
       "    }\n",
       "\n",
       "    .dataframe thead th {\n",
       "        text-align: right;\n",
       "    }\n",
       "</style>\n",
       "<table border=\"1\" class=\"dataframe\">\n",
       "  <thead>\n",
       "    <tr style=\"text-align: right;\">\n",
       "      <th></th>\n",
       "      <th>Open</th>\n",
       "      <th>High</th>\n",
       "      <th>Low</th>\n",
       "      <th>Close</th>\n",
       "      <th>Adj Close</th>\n",
       "      <th>Volume</th>\n",
       "    </tr>\n",
       "    <tr>\n",
       "      <th>Date</th>\n",
       "      <th></th>\n",
       "      <th></th>\n",
       "      <th></th>\n",
       "      <th></th>\n",
       "      <th></th>\n",
       "      <th></th>\n",
       "    </tr>\n",
       "  </thead>\n",
       "  <tbody>\n",
       "  </tbody>\n",
       "</table>\n",
       "</div>"
      ],
      "text/plain": [
       "Empty DataFrame\n",
       "Columns: [Open, High, Low, Close, Adj Close, Volume]\n",
       "Index: []"
      ]
     },
     "execution_count": 3,
     "metadata": {},
     "output_type": "execute_result"
    }
   ],
   "source": [
    "yf.download(\"SPY\", start = \"2010-01-01\", end=\"2024-01-01\")"
   ]
  },
  {
   "cell_type": "code",
   "execution_count": 7,
   "id": "22e8b4ed",
   "metadata": {},
   "outputs": [
    {
     "name": "stderr",
     "output_type": "stream",
     "text": [
      "[*********************100%%**********************]  1 of 1 completed\n",
      "\n",
      "1 Failed download:\n",
      "['AAPL']: JSONDecodeError('Expecting value: line 1 column 1 (char 0)')\n"
     ]
    },
    {
     "data": {
      "text/html": [
       "<div>\n",
       "<style scoped>\n",
       "    .dataframe tbody tr th:only-of-type {\n",
       "        vertical-align: middle;\n",
       "    }\n",
       "\n",
       "    .dataframe tbody tr th {\n",
       "        vertical-align: top;\n",
       "    }\n",
       "\n",
       "    .dataframe thead th {\n",
       "        text-align: right;\n",
       "    }\n",
       "</style>\n",
       "<table border=\"1\" class=\"dataframe\">\n",
       "  <thead>\n",
       "    <tr style=\"text-align: right;\">\n",
       "      <th></th>\n",
       "      <th>Open</th>\n",
       "      <th>High</th>\n",
       "      <th>Low</th>\n",
       "      <th>Close</th>\n",
       "      <th>Adj Close</th>\n",
       "      <th>Volume</th>\n",
       "    </tr>\n",
       "    <tr>\n",
       "      <th>Date</th>\n",
       "      <th></th>\n",
       "      <th></th>\n",
       "      <th></th>\n",
       "      <th></th>\n",
       "      <th></th>\n",
       "      <th></th>\n",
       "    </tr>\n",
       "  </thead>\n",
       "  <tbody>\n",
       "  </tbody>\n",
       "</table>\n",
       "</div>"
      ],
      "text/plain": [
       "Empty DataFrame\n",
       "Columns: [Open, High, Low, Close, Adj Close, Volume]\n",
       "Index: []"
      ]
     },
     "execution_count": 7,
     "metadata": {},
     "output_type": "execute_result"
    }
   ],
   "source": [
    "yf.download(\"AAPL\", start = \"2010-01-01\", end=\"2024-01-01\")"
   ]
  },
  {
   "cell_type": "code",
   "execution_count": null,
   "id": "f58757a3",
   "metadata": {},
   "outputs": [],
   "source": [
    ", start = \"2010-01-01\", end=\"2024-01-01\""
   ]
  }
 ],
 "metadata": {
  "kernelspec": {
   "display_name": "Python 3 (ipykernel)",
   "language": "python",
   "name": "python3"
  },
  "language_info": {
   "codemirror_mode": {
    "name": "ipython",
    "version": 3
   },
   "file_extension": ".py",
   "mimetype": "text/x-python",
   "name": "python",
   "nbconvert_exporter": "python",
   "pygments_lexer": "ipython3",
   "version": "3.10.10"
  }
 },
 "nbformat": 4,
 "nbformat_minor": 5
}
